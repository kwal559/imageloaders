{
 "cells": [
  {
   "cell_type": "code",
   "execution_count": null,
   "id": "05afa5be-06f5-4b39-9213-88b93c088063",
   "metadata": {},
   "outputs": [],
   "source": [
    "from diffusers import CogView4Pipeline, CogView4Transformer2DModel #, BitsAndBytesConfig as DiffusersBitsAndBytesConfig\n",
    "from transformers import GlmModel, BitsAndBytesConfig as TransformersBitsAndBytesConfig\n",
    "import torch, time, gc, os\n",
    "\n",
    "def flush():\n",
    "    gc.collect()\n",
    "    torch.cuda.empty_cache()\n",
    "def bytes_to_giga_bytes(bytes):\n",
    "    return bytes / 1024 / 1024 / 1024\n",
    "\n",
    "id = \"THUDM/CogView4-6B\"\n",
    "shortid = \"cogview4\"\n",
    "device = \"cuda\"\n",
    "dtype = torch.bfloat16\n",
    "\n",
    "text_encoder = GlmModel.from_pretrained(\n",
    "    id,\n",
    "    subfolder=\"text_encoder\",\n",
    "    device_map=\"auto\",\n",
    ")\n",
    "pipeline = CogView4Pipeline.from_pretrained(\n",
    "    id,\n",
    "    text_encoder=text_encoder,\n",
    "    transformer=None,\n",
    "    vae=None,\n",
    "    device_map=\"balanced\",\n",
    ")"
   ]
  },
  {
   "cell_type": "code",
   "execution_count": null,
   "id": "582cca6a-250c-4a95-a148-ba8a740a3fd7",
   "metadata": {},
   "outputs": [],
   "source": [
    "\n",
    "with torch.no_grad():\n",
    "    prompt = \"A photorealistic close-up of a single, iridescent hummingbird hovering mid-air, its wings a blur of sapphire and emerald, drinking nectar from a luminous, bioluminescent flower that emits soft, swirling particles of golden light. The background is a hyper-detailed, otherworldly jungle at twilight, with colossal, crystalline trees reflecting a nebula-filled sky. In the foreground, a single dewdrop clings precariously to a spiderweb woven with threads of pure silver. The overall atmosphere should be one of serene magic and vibrant detail.\"\n",
    "\n",
    "    negative_prompt = \"poor quality, poor clarity, ugly, jpeg artifacts, cropped, lowres, error, out of frame, watermark\"\n",
    "    (\n",
    "        prompt_embeds,\n",
    "        negative_prompt_embeds,\n",
    "    ) = pipeline.encode_prompt(prompt=prompt, negative_prompt=negative_prompt)\n",
    "\n",
    "del text_encoder\n",
    "del pipeline\n",
    "flush()\n"
   ]
  },
  {
   "cell_type": "code",
   "execution_count": null,
   "id": "83efe6a1-a4f1-4565-a91b-bb4ca09df000",
   "metadata": {},
   "outputs": [],
   "source": [
    "\n",
    "pipeline = CogView4Pipeline.from_pretrained(\n",
    "    id,\n",
    "    text_encoder=None,\n",
    "    tokenizer=None,\n",
    "    torch_dtype=dtype\n",
    ").to(\"cuda\")\n",
    "pipeline.enable_model_cpu_offload()\n",
    "\n",
    "\n",
    "prompt_embeds_gen = prompt_embeds.to(\"cuda\").to(dtype)\n",
    "negative_prompt_embeds_gen = negative_prompt_embeds.to(\"cuda\").to(dtype)\n"
   ]
  },
  {
   "cell_type": "code",
   "execution_count": null,
   "id": "79e78000-3bb4-4326-bc85-75587ece5273",
   "metadata": {},
   "outputs": [],
   "source": [
    "image = pipeline(\n",
    "    prompt_embeds=prompt_embeds_gen,\n",
    "    negative_prompt_embeds=negative_prompt_embeds_gen,\n",
    "    guidance_scale=3.5,\n",
    "    num_inference_steps=50,\n",
    "    width=1344,\n",
    "    height=768,                    \n",
    ").images[0]\n",
    "\n",
    "\n",
    "timestamp = str(int(time.time()))\n",
    "filename = f\"testembed_{timestamp}.png\"\n",
    "image.save(filename)\n",
    "os.startfile(filename)\n",
    "print(f\"Image saved as {filename}\") \n",
    "print(f\"Max memory allocated: {bytes_to_giga_bytes(torch.cuda.max_memory_allocated())} GB\")"
   ]
  },
  {
   "cell_type": "code",
   "execution_count": null,
   "id": "3a171cd3-4db1-4f40-b420-a0a7729946c5",
   "metadata": {},
   "outputs": [],
   "source": []
  }
 ],
 "metadata": {
  "kernelspec": {
   "display_name": "Python 3 (ipykernel)",
   "language": "python",
   "name": "python3"
  },
  "language_info": {
   "codemirror_mode": {
    "name": "ipython",
    "version": 3
   },
   "file_extension": ".py",
   "mimetype": "text/x-python",
   "name": "python",
   "nbconvert_exporter": "python",
   "pygments_lexer": "ipython3",
   "version": "3.10.16"
  }
 },
 "nbformat": 4,
 "nbformat_minor": 5
}
